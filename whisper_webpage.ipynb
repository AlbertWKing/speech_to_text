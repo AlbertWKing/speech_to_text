{
 "cells": [
  {
   "cell_type": "markdown",
   "metadata": {},
   "source": [
    "Working from the Hugging Face Whisper Large V3 page (https://huggingface.co/openai/whisper-large-v3) to practice using the transformer.\n",
    "\n",
    "- Uses environment AKStandard_AIML (Py 3.11.9)"
   ]
  },
  {
   "cell_type": "code",
   "execution_count": 1,
   "metadata": {},
   "outputs": [],
   "source": [
    "import torch\n",
    "from transformers import AutoModelForSpeechSeq2Seq, AutoProcessor, pipeline\n",
    "from datasets import load_dataset"
   ]
  },
  {
   "cell_type": "code",
   "execution_count": 5,
   "metadata": {},
   "outputs": [
    {
     "name": "stdout",
     "output_type": "stream",
     "text": [
      "True\n",
      "True\n"
     ]
    }
   ],
   "source": [
    "import torch\n",
    "print(torch.backends.mps.is_available())  # Should print True\n",
    "print(torch.backends.mps.is_built())      # Should print True"
   ]
  },
  {
   "cell_type": "code",
   "execution_count": 2,
   "metadata": {},
   "outputs": [
    {
     "name": "stdout",
     "output_type": "stream",
     "text": [
      "mps\n",
      "tensor([1., 1., 1., 1., 1.], device='mps:0')\n"
     ]
    }
   ],
   "source": [
    "device = torch.device(\"mps\")  # Force Metal backend\n",
    "print(device)\n",
    "\n",
    "# Create a tensor and move it to GPU\n",
    "x = torch.ones(5, device=device)\n",
    "print(x)"
   ]
  },
  {
   "cell_type": "code",
   "execution_count": 6,
   "metadata": {},
   "outputs": [
    {
     "name": "stdout",
     "output_type": "stream",
     "text": [
      "mps\n"
     ]
    }
   ],
   "source": [
    "print(torch.device(\"mps\"))"
   ]
  },
  {
   "cell_type": "code",
   "execution_count": 7,
   "metadata": {},
   "outputs": [
    {
     "name": "stdout",
     "output_type": "stream",
     "text": [
      "Using device: mps\n"
     ]
    }
   ],
   "source": [
    "device = torch.device(\"mps\" if torch.backends.mps.is_available() else \"cpu\")\n",
    "print(\"Using device:\", device)"
   ]
  },
  {
   "cell_type": "code",
   "execution_count": 9,
   "metadata": {},
   "outputs": [
    {
     "name": "stdout",
     "output_type": "stream",
     "text": [
      "tensor([1., 1., 1., 1., 1.], device='mps:0')\n"
     ]
    }
   ],
   "source": [
    "x = torch.ones(5, device=\"mps\")\n",
    "print(x)\n"
   ]
  },
  {
   "cell_type": "code",
   "execution_count": 12,
   "metadata": {},
   "outputs": [
    {
     "name": "stdout",
     "output_type": "stream",
     "text": [
      "Inference Time on CPU: 0.7383 seconds\n",
      "Inference Time on MPS: 0.5304 seconds\n"
     ]
    }
   ],
   "source": [
    "import torch\n",
    "from transformers import AutoModel, AutoTokenizer\n",
    "import time\n",
    "\n",
    "model_name = \"bert-base-uncased\"\n",
    "tokenizer = AutoTokenizer.from_pretrained(model_name)\n",
    "\n",
    "for device_str in [\"cpu\", \"mps\"]:  # Test both CPU and MPS\n",
    "    device = torch.device(device_str)\n",
    "    model = AutoModel.from_pretrained(model_name).to(device)\n",
    "\n",
    "    text = \"This is a test sentence.\"*32\n",
    "    inputs = tokenizer(text, return_tensors=\"pt\").to(device)\n",
    "\n",
    "    # Run inference and time it\n",
    "    torch.mps.empty_cache() if device_str == \"mps\" else None\n",
    "    start_time = time.time()\n",
    "\n",
    "    with torch.no_grad():\n",
    "        output = model(**inputs)\n",
    "\n",
    "    elapsed_time = time.time() - start_time\n",
    "    print(f\"Inference Time on {device_str.upper()}: {elapsed_time:.4f} seconds\")"
   ]
  },
  {
   "cell_type": "code",
   "execution_count": 14,
   "metadata": {},
   "outputs": [
    {
     "name": "stdout",
     "output_type": "stream",
     "text": [
      "Inference Time on CPU: 14.8640 seconds\n",
      "Inference Time on MPS: 8.3764 seconds\n"
     ]
    }
   ],
   "source": [
    "import torch\n",
    "import time\n",
    "from transformers import AutoModel, AutoTokenizer\n",
    "from datasets import load_dataset\n",
    "\n",
    "# Choose dataset (SQuAD is large, IMDB is also an option)\n",
    "dataset = load_dataset(\"squad\", split=\"train\")  # Stanford Q&A dataset\n",
    "\n",
    "# Extract the first 512 examples (adjust as needed)\n",
    "texts = [example[\"context\"] for example in dataset.select(range(128))]\n",
    "\n",
    "# Choose model\n",
    "model_name = \"bert-base-uncased\"\n",
    "tokenizer = AutoTokenizer.from_pretrained(model_name)\n",
    "\n",
    "# Function to benchmark\n",
    "def benchmark(device_str):\n",
    "    device = torch.device(device_str)\n",
    "    model = AutoModel.from_pretrained(model_name).to(device)\n",
    "\n",
    "    # Tokenize dataset\n",
    "    inputs = tokenizer(texts, return_tensors=\"pt\", padding=True, truncation=True).to(device)\n",
    "\n",
    "    # Run inference\n",
    "    torch.mps.empty_cache() if device_str == \"mps\" else None\n",
    "    start_time = time.time()\n",
    "\n",
    "    with torch.no_grad():\n",
    "        output = model(**inputs)\n",
    "\n",
    "    elapsed_time = time.time() - start_time\n",
    "    print(f\"Inference Time on {device_str.upper()}: {elapsed_time:.4f} seconds\")\n",
    "\n",
    "# Run benchmarks\n",
    "benchmark(\"cpu\")\n",
    "benchmark(\"mps\")"
   ]
  },
  {
   "cell_type": "code",
   "execution_count": 10,
   "metadata": {},
   "outputs": [
    {
     "name": "stdout",
     "output_type": "stream",
     "text": [
      "CPU Time: 2.2532479763031006\n",
      "MPS Time: 2.3821640014648438\n"
     ]
    }
   ],
   "source": [
    "import torch\n",
    "import time\n",
    "\n",
    "# Set device\n",
    "device_mps = torch.device(\"mps\")\n",
    "device_cpu = torch.device(\"cpu\")\n",
    "\n",
    "# Create a random tensor\n",
    "size = (10000, 10000)\n",
    "a_cpu = torch.randn(size, device=\"cpu\")\n",
    "b_cpu = torch.randn(size, device=\"cpu\")\n",
    "\n",
    "a_mps = torch.randn(size, device=\"mps\")\n",
    "b_mps = torch.randn(size, device=\"mps\")\n",
    "\n",
    "# CPU computation\n",
    "start = time.time()\n",
    "c_cpu = a_cpu @ b_cpu  # Matrix multiplication\n",
    "torch.cuda.synchronize() if torch.cuda.is_available() else None\n",
    "print(\"CPU Time:\", time.time() - start)\n",
    "\n",
    "# MPS computation\n",
    "start = time.time()\n",
    "c_mps = a_mps @ b_mps  # Matrix multiplication\n",
    "torch.mps.synchronize()  # Ensure all ops are finished\n",
    "print(\"MPS Time:\", time.time() - start)"
   ]
  },
  {
   "cell_type": "code",
   "execution_count": 8,
   "metadata": {},
   "outputs": [
    {
     "name": "stdout",
     "output_type": "stream",
     "text": [
      "tensor([1.], device='mps:0')\n"
     ]
    }
   ],
   "source": [
    "if torch.backends.mps.is_available():\n",
    "    mps_device = torch.device(\"mps\")\n",
    "    x = torch.ones(1, device=mps_device)\n",
    "    print (x)\n",
    "else:\n",
    "    print (\"MPS device not found.\")"
   ]
  },
  {
   "cell_type": "code",
   "execution_count": 4,
   "metadata": {},
   "outputs": [
    {
     "data": {
      "text/plain": [
       "'cpu'"
      ]
     },
     "execution_count": 4,
     "metadata": {},
     "output_type": "execute_result"
    }
   ],
   "source": [
    "device = \"cuda:0\" if torch.cuda.is_available() else \"cpu\"\n",
    "torch_dtype = torch.float16 if torch.cuda.is_available() else torch.float32\n",
    "\n",
    "device"
   ]
  },
  {
   "cell_type": "code",
   "execution_count": null,
   "metadata": {},
   "outputs": [],
   "source": [
    "model_id = \"openai/whisper-large-v3\""
   ]
  },
  {
   "cell_type": "code",
   "execution_count": null,
   "metadata": {},
   "outputs": [],
   "source": [
    "\n",
    "model = AutoModelForSpeechSeq2Seq.from_pretrained(\n",
    "    model_id, torch_dtype=torch_dtype, low_cpu_mem_usage=True, use_safetensors=True\n",
    ")\n",
    "model.to(device)\n",
    "\n",
    "processor = AutoProcessor.from_pretrained(model_id)\n",
    "\n",
    "pipe = pipeline(\n",
    "    \"automatic-speech-recognition\",\n",
    "    model=model,\n",
    "    tokenizer=processor.tokenizer,\n",
    "    feature_extractor=processor.feature_extractor,\n",
    "    torch_dtype=torch_dtype,\n",
    "    device=device,\n",
    ")\n",
    "\n",
    "dataset = load_dataset(\"distil-whisper/librispeech_long\", \"clean\", split=\"validation\")\n",
    "sample = dataset[0][\"audio\"]\n",
    "\n",
    "result = pipe(sample)\n",
    "print(result[\"text\"])\n"
   ]
  },
  {
   "cell_type": "code",
   "execution_count": 9,
   "metadata": {},
   "outputs": [
    {
     "name": "stdout",
     "output_type": "stream",
     "text": [
      "<module 'torch.backends.mps' from '/opt/anaconda3/envs/AKStandard_AIML/lib/python3.11/site-packages/torch/backends/mps/__init__.py'>\n"
     ]
    }
   ],
   "source": [
    "import torch\n",
    "print(torch.backends.mps)  # Should print True if GPU is usable\n"
   ]
  }
 ],
 "metadata": {
  "kernelspec": {
   "display_name": "AKStandard_AIML",
   "language": "python",
   "name": "python3"
  },
  "language_info": {
   "codemirror_mode": {
    "name": "ipython",
    "version": 3
   },
   "file_extension": ".py",
   "mimetype": "text/x-python",
   "name": "python",
   "nbconvert_exporter": "python",
   "pygments_lexer": "ipython3",
   "version": "3.11.9"
  }
 },
 "nbformat": 4,
 "nbformat_minor": 2
}
