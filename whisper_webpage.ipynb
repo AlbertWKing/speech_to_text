{
 "cells": [
  {
   "cell_type": "markdown",
   "metadata": {},
   "source": [
    "Working from the Hugging Face OpenAI Whisper Large V3 page (https://huggingface.co/openai/whisper-large-v3) to practice using the transformer;\n",
    "\n",
    "changed to Large V3 Turbo (https://huggingface.co/openai/whisper-large-v3-turbo).\n",
    "\n",
    "- Uses environment AKStandard_AIML (Py 3.11.9)"
   ]
  },
  {
   "cell_type": "markdown",
   "metadata": {},
   "source": [
    "# To Do\n",
    "\n",
    "- use more functions; the print results should be summarized for example.\n",
    "- docker to EC2 instance?\n",
    "- connect notebook to EC2 instance?\n",
    "- acceleration via NVIDIA GPU in EC2 instance?\n",
    "- acceleration via Flash Attention/torch.compile???"
   ]
  },
  {
   "cell_type": "markdown",
   "metadata": {},
   "source": [
    "# Imports"
   ]
  },
  {
   "cell_type": "code",
   "execution_count": 1,
   "metadata": {},
   "outputs": [],
   "source": [
    "import torch\n",
    "from transformers import AutoModelForSpeechSeq2Seq, AutoProcessor, pipeline\n",
    "from datasets import load_dataset\n",
    "\n",
    "import time\n",
    "import warnings"
   ]
  },
  {
   "cell_type": "markdown",
   "metadata": {},
   "source": [
    "# Learning to run on GPU"
   ]
  },
  {
   "cell_type": "code",
   "execution_count": 15,
   "metadata": {},
   "outputs": [
    {
     "name": "stdout",
     "output_type": "stream",
     "text": [
      "mps\n",
      "tensor([1., 1., 1., 1., 1.], device='mps:0')\n"
     ]
    }
   ],
   "source": [
    "# Running MacBook Air with Apple M2 chip - need to tell Torch to use Metal Performance Shaders (MPS, https://developer.apple.com/metal/pytorch/)\n",
    "# and confirm not running on CPU\n",
    "\n",
    "# import torch\n",
    "\n",
    "# define/assign device\n",
    "device = torch.device(\"mps\")  # Force Metal backend\n",
    "\n",
    "# ensure that mps is active and behaving on GPU\n",
    "# Create a tensor and move it to GPU\n",
    "x = torch.ones(5, device=device)\n",
    "print(x)"
   ]
  },
  {
   "cell_type": "code",
   "execution_count": 20,
   "metadata": {},
   "outputs": [
    {
     "name": "stdout",
     "output_type": "stream",
     "text": [
      "CPU Time: 2.241041898727417\n",
      "MPS Time: 5.3711090087890625\n"
     ]
    }
   ],
   "source": [
    "# Test CPU vs MPS via matrix multiplication - from ChatGPT - CPU faster\n",
    "\n",
    "# import torch\n",
    "# import time\n",
    "\n",
    "# Set device\n",
    "device_mps = torch.device(\"mps\")\n",
    "device_cpu = torch.device(\"cpu\")\n",
    "\n",
    "# Create a random tensor\n",
    "size = (10000, 10000)\n",
    "a_cpu = torch.randn(size, device=\"cpu\")\n",
    "b_cpu = torch.randn(size, device=\"cpu\")\n",
    "\n",
    "a_mps = torch.randn(size, device=\"mps\")\n",
    "b_mps = torch.randn(size, device=\"mps\")\n",
    "\n",
    "# CPU computation\n",
    "start = time.time()\n",
    "c_cpu = a_cpu @ b_cpu  # Matrix multiplication\n",
    "torch.cuda.synchronize() if torch.cuda.is_available() else None\n",
    "print(\"CPU Time:\", time.time() - start)\n",
    "\n",
    "# MPS computation\n",
    "start = time.time()\n",
    "c_mps = a_mps @ b_mps  # Matrix multiplication\n",
    "torch.mps.synchronize()  # Ensure all ops are finished\n",
    "print(\"MPS Time:\", time.time() - start)"
   ]
  },
  {
   "cell_type": "code",
   "execution_count": 12,
   "metadata": {},
   "outputs": [
    {
     "name": "stdout",
     "output_type": "stream",
     "text": [
      "Inference Time on CPU: 0.7383 seconds\n",
      "Inference Time on MPS: 0.5304 seconds\n"
     ]
    }
   ],
   "source": [
    "# ChatGPT came up with this to test CPU vs MPS speed.\n",
    "# Note: had to lengthen the text - just multiplied the sentence so it's longer;\n",
    "# otherwise, CPU is faster with short input.\n",
    "\n",
    "# import torch\n",
    "# from transformers import AutoModel, AutoTokenizer\n",
    "# import time\n",
    "\n",
    "model_name = \"bert-base-uncased\"\n",
    "tokenizer = AutoTokenizer.from_pretrained(model_name)\n",
    "\n",
    "for device_str in [\"cpu\", \"mps\"]:  # Test both CPU and MPS\n",
    "    device = torch.device(device_str)\n",
    "    model = AutoModel.from_pretrained(model_name).to(device)\n",
    "\n",
    "    text = \"This is a test sentence.\"*32\n",
    "    inputs = tokenizer(text, return_tensors=\"pt\").to(device)\n",
    "\n",
    "    # Run inference and time it\n",
    "    torch.mps.empty_cache() if device_str == \"mps\" else None\n",
    "    start_time = time.time()\n",
    "\n",
    "    with torch.no_grad():\n",
    "        output = model(**inputs)\n",
    "\n",
    "    elapsed_time = time.time() - start_time\n",
    "    print(f\"Inference Time on {device_str.upper()}: {elapsed_time:.4f} seconds\")"
   ]
  },
  {
   "cell_type": "code",
   "execution_count": 14,
   "metadata": {},
   "outputs": [
    {
     "name": "stdout",
     "output_type": "stream",
     "text": [
      "Inference Time on CPU: 14.8640 seconds\n",
      "Inference Time on MPS: 8.3764 seconds\n"
     ]
    }
   ],
   "source": [
    "# using a much longer example dataset to test CPU vs MPS speed\n",
    "# also from ChatGPT\n",
    "\n",
    "# import torch\n",
    "# import time\n",
    "# from transformers import AutoModel, AutoTokenizer\n",
    "# from datasets import load_dataset\n",
    "\n",
    "# Choose dataset (SQuAD is large, IMDB is also an option)\n",
    "dataset = load_dataset(\"squad\", split=\"train\")  # Stanford Q&A dataset\n",
    "\n",
    "# Extract the first 512 examples (adjust as needed)\n",
    "texts = [example[\"context\"] for example in dataset.select(range(128))]\n",
    "\n",
    "# Choose model\n",
    "model_name = \"bert-base-uncased\"\n",
    "tokenizer = AutoTokenizer.from_pretrained(model_name)\n",
    "\n",
    "# Function to benchmark\n",
    "def benchmark(device_str):\n",
    "    device = torch.device(device_str)\n",
    "    model = AutoModel.from_pretrained(model_name).to(device)\n",
    "\n",
    "    # Tokenize dataset\n",
    "    inputs = tokenizer(texts, return_tensors=\"pt\", padding=True, truncation=True).to(device)\n",
    "\n",
    "    # Run inference\n",
    "    torch.mps.empty_cache() if device_str == \"mps\" else None\n",
    "    start_time = time.time()\n",
    "\n",
    "    with torch.no_grad():\n",
    "        output = model(**inputs)\n",
    "\n",
    "    elapsed_time = time.time() - start_time\n",
    "    print(f\"Inference Time on {device_str.upper()}: {elapsed_time:.4f} seconds\")\n",
    "\n",
    "# Run benchmarks\n",
    "benchmark(\"cpu\")\n",
    "benchmark(\"mps\")"
   ]
  },
  {
   "cell_type": "markdown",
   "metadata": {},
   "source": [
    "# File Conversion"
   ]
  },
  {
   "cell_type": "code",
   "execution_count": 11,
   "metadata": {},
   "outputs": [
    {
     "name": "stdout",
     "output_type": "stream",
     "text": [
      "Conversion complete!\n"
     ]
    }
   ],
   "source": [
    "# it is apparently not convenient to convert .m4a to .mp3 or .wav on mac\n",
    "# so the following code is recommended\n",
    "\n",
    "from pydub import AudioSegment\n",
    "\n",
    "# Load the .m4a file\n",
    "audio = AudioSegment.from_file(\"./data/2045 Spring 2025 Exam 2 MW.m4a\", format=\"m4a\")\n",
    "\n",
    "# Export as .wav\n",
    "audio.export(\"./data/2045 Spring 2025 Exam 2 MW.wav\", format=\"wav\")\n",
    "print(\"Conversion complete!\")"
   ]
  },
  {
   "cell_type": "markdown",
   "metadata": {},
   "source": [
    "# Choose Data, Model"
   ]
  },
  {
   "cell_type": "code",
   "execution_count": 2,
   "metadata": {},
   "outputs": [],
   "source": [
    "# get data\n",
    "\n",
    "# real data options\n",
    "sample = './data/2045 Spring 2025 Exam 2 Key.wav'\n",
    "# sample = './data/2045 Spring 2025 Exam 2 MW.wav'\n",
    "\n",
    "# Hugging Face test data\n",
    "\n",
    "# dataset = load_dataset(\"distil-whisper/librispeech_long\", \"clean\", split=\"validation\")\n",
    "# sample = dataset[0][\"audio\"]"
   ]
  },
  {
   "cell_type": "code",
   "execution_count": 3,
   "metadata": {},
   "outputs": [],
   "source": [
    "# define/get model, processor\n",
    "# need to figure out what processor is?\n",
    "\n",
    "model_id = \"openai/whisper-large-v3-turbo\"\n",
    "# model_id = \"openai/whisper-large-v3\"\n",
    "\n",
    "processor = AutoProcessor.from_pretrained(model_id)"
   ]
  },
  {
   "cell_type": "markdown",
   "metadata": {},
   "source": [
    "# Tutorial Starts Here"
   ]
  },
  {
   "cell_type": "markdown",
   "metadata": {},
   "source": [
    "# GPU Version"
   ]
  },
  {
   "cell_type": "code",
   "execution_count": 7,
   "metadata": {},
   "outputs": [
    {
     "data": {
      "text/plain": [
       "WhisperForConditionalGeneration(\n",
       "  (model): WhisperModel(\n",
       "    (encoder): WhisperEncoder(\n",
       "      (conv1): Conv1d(128, 1280, kernel_size=(3,), stride=(1,), padding=(1,))\n",
       "      (conv2): Conv1d(1280, 1280, kernel_size=(3,), stride=(2,), padding=(1,))\n",
       "      (embed_positions): Embedding(1500, 1280)\n",
       "      (layers): ModuleList(\n",
       "        (0-31): 32 x WhisperEncoderLayer(\n",
       "          (self_attn): WhisperSdpaAttention(\n",
       "            (k_proj): Linear(in_features=1280, out_features=1280, bias=False)\n",
       "            (v_proj): Linear(in_features=1280, out_features=1280, bias=True)\n",
       "            (q_proj): Linear(in_features=1280, out_features=1280, bias=True)\n",
       "            (out_proj): Linear(in_features=1280, out_features=1280, bias=True)\n",
       "          )\n",
       "          (self_attn_layer_norm): LayerNorm((1280,), eps=1e-05, elementwise_affine=True)\n",
       "          (activation_fn): GELUActivation()\n",
       "          (fc1): Linear(in_features=1280, out_features=5120, bias=True)\n",
       "          (fc2): Linear(in_features=5120, out_features=1280, bias=True)\n",
       "          (final_layer_norm): LayerNorm((1280,), eps=1e-05, elementwise_affine=True)\n",
       "        )\n",
       "      )\n",
       "      (layer_norm): LayerNorm((1280,), eps=1e-05, elementwise_affine=True)\n",
       "    )\n",
       "    (decoder): WhisperDecoder(\n",
       "      (embed_tokens): Embedding(51866, 1280, padding_idx=50257)\n",
       "      (embed_positions): WhisperPositionalEmbedding(448, 1280)\n",
       "      (layers): ModuleList(\n",
       "        (0-3): 4 x WhisperDecoderLayer(\n",
       "          (self_attn): WhisperSdpaAttention(\n",
       "            (k_proj): Linear(in_features=1280, out_features=1280, bias=False)\n",
       "            (v_proj): Linear(in_features=1280, out_features=1280, bias=True)\n",
       "            (q_proj): Linear(in_features=1280, out_features=1280, bias=True)\n",
       "            (out_proj): Linear(in_features=1280, out_features=1280, bias=True)\n",
       "          )\n",
       "          (activation_fn): GELUActivation()\n",
       "          (self_attn_layer_norm): LayerNorm((1280,), eps=1e-05, elementwise_affine=True)\n",
       "          (encoder_attn): WhisperSdpaAttention(\n",
       "            (k_proj): Linear(in_features=1280, out_features=1280, bias=False)\n",
       "            (v_proj): Linear(in_features=1280, out_features=1280, bias=True)\n",
       "            (q_proj): Linear(in_features=1280, out_features=1280, bias=True)\n",
       "            (out_proj): Linear(in_features=1280, out_features=1280, bias=True)\n",
       "          )\n",
       "          (encoder_attn_layer_norm): LayerNorm((1280,), eps=1e-05, elementwise_affine=True)\n",
       "          (fc1): Linear(in_features=1280, out_features=5120, bias=True)\n",
       "          (fc2): Linear(in_features=5120, out_features=1280, bias=True)\n",
       "          (final_layer_norm): LayerNorm((1280,), eps=1e-05, elementwise_affine=True)\n",
       "        )\n",
       "      )\n",
       "      (layer_norm): LayerNorm((1280,), eps=1e-05, elementwise_affine=True)\n",
       "    )\n",
       "  )\n",
       "  (proj_out): Linear(in_features=1280, out_features=51866, bias=False)\n",
       ")"
      ]
     },
     "execution_count": 7,
     "metadata": {},
     "output_type": "execute_result"
    }
   ],
   "source": [
    "# set device, torch type, model parameters, move to 'device'\n",
    "\n",
    "# I think I can just use (and test sometime with 'cpu' instead)\n",
    "device = 'mps'\n",
    "\n",
    "# unclear to me if M2 can use float16 (recommended for NVIDIA GPU per tutorial) so using float32\n",
    "torch_dtype = torch.float32\n",
    "\n",
    "model = AutoModelForSpeechSeq2Seq.from_pretrained(\n",
    "    model_id,\n",
    "    # language = 'en',\n",
    "    torch_dtype=torch_dtype,\n",
    "    # low_cpu_mem_usage=True, # dropped because running on GPU\n",
    "    use_safetensors=True) # this is apparently faster and more secure? https://huggingface.co/docs/diffusers/v0.28.1/using-diffusers/using_safetensors\n",
    "\n",
    "# apparently moves model to GPU or specified device\n",
    "model.to(device)"
   ]
  },
  {
   "cell_type": "code",
   "execution_count": 8,
   "metadata": {},
   "outputs": [
    {
     "name": "stderr",
     "output_type": "stream",
     "text": [
      "Device set to use mps\n"
     ]
    }
   ],
   "source": [
    "# pipe to hold model\n",
    "\n",
    "pipe = pipeline(\n",
    "    \"automatic-speech-recognition\",\n",
    "    model=model,\n",
    "    tokenizer=processor.tokenizer,\n",
    "    feature_extractor=processor.feature_extractor,\n",
    "    torch_dtype=torch_dtype,\n",
    "    device=device,\n",
    "    return_timestamps=True\n",
    ")"
   ]
  },
  {
   "cell_type": "code",
   "execution_count": 9,
   "metadata": {},
   "outputs": [
    {
     "name": "stdout",
     "output_type": "stream",
     "text": [
      "The output is :  Key. 8, 8, 8, 7, 3, 8, 4, 4, 8, 2, 2, 3, 2, 5, 2, 2, 2, 4, 4, 4, 2, 2, 3, 3, 2, 1, 1, 4, 4.\n",
      "The model took 26.0 seconds.\n"
     ]
    }
   ],
   "source": [
    "# run model\n",
    "\n",
    "# warnings are annoying me\n",
    "warnings.filterwarnings(\"ignore\")\n",
    "\n",
    "# start time to see how long the model takes to run\n",
    "start_time = time.time()\n",
    "\n",
    "result = pipe(sample)\n",
    "print(f\"The output is : {result['text']}\")\n",
    "\n",
    "# stop time\n",
    "print(f\"The model took {round(time.time() - start_time, 2)} seconds.\")\n",
    "\n",
    "# turn warnings back on\n",
    "warnings.simplefilter(\"default\")"
   ]
  },
  {
   "cell_type": "markdown",
   "metadata": {},
   "source": [
    "# CPU Version"
   ]
  },
  {
   "cell_type": "code",
   "execution_count": 4,
   "metadata": {},
   "outputs": [
    {
     "data": {
      "text/plain": [
       "WhisperForConditionalGeneration(\n",
       "  (model): WhisperModel(\n",
       "    (encoder): WhisperEncoder(\n",
       "      (conv1): Conv1d(128, 1280, kernel_size=(3,), stride=(1,), padding=(1,))\n",
       "      (conv2): Conv1d(1280, 1280, kernel_size=(3,), stride=(2,), padding=(1,))\n",
       "      (embed_positions): Embedding(1500, 1280)\n",
       "      (layers): ModuleList(\n",
       "        (0-31): 32 x WhisperEncoderLayer(\n",
       "          (self_attn): WhisperSdpaAttention(\n",
       "            (k_proj): Linear(in_features=1280, out_features=1280, bias=False)\n",
       "            (v_proj): Linear(in_features=1280, out_features=1280, bias=True)\n",
       "            (q_proj): Linear(in_features=1280, out_features=1280, bias=True)\n",
       "            (out_proj): Linear(in_features=1280, out_features=1280, bias=True)\n",
       "          )\n",
       "          (self_attn_layer_norm): LayerNorm((1280,), eps=1e-05, elementwise_affine=True)\n",
       "          (activation_fn): GELUActivation()\n",
       "          (fc1): Linear(in_features=1280, out_features=5120, bias=True)\n",
       "          (fc2): Linear(in_features=5120, out_features=1280, bias=True)\n",
       "          (final_layer_norm): LayerNorm((1280,), eps=1e-05, elementwise_affine=True)\n",
       "        )\n",
       "      )\n",
       "      (layer_norm): LayerNorm((1280,), eps=1e-05, elementwise_affine=True)\n",
       "    )\n",
       "    (decoder): WhisperDecoder(\n",
       "      (embed_tokens): Embedding(51866, 1280, padding_idx=50257)\n",
       "      (embed_positions): WhisperPositionalEmbedding(448, 1280)\n",
       "      (layers): ModuleList(\n",
       "        (0-3): 4 x WhisperDecoderLayer(\n",
       "          (self_attn): WhisperSdpaAttention(\n",
       "            (k_proj): Linear(in_features=1280, out_features=1280, bias=False)\n",
       "            (v_proj): Linear(in_features=1280, out_features=1280, bias=True)\n",
       "            (q_proj): Linear(in_features=1280, out_features=1280, bias=True)\n",
       "            (out_proj): Linear(in_features=1280, out_features=1280, bias=True)\n",
       "          )\n",
       "          (activation_fn): GELUActivation()\n",
       "          (self_attn_layer_norm): LayerNorm((1280,), eps=1e-05, elementwise_affine=True)\n",
       "          (encoder_attn): WhisperSdpaAttention(\n",
       "            (k_proj): Linear(in_features=1280, out_features=1280, bias=False)\n",
       "            (v_proj): Linear(in_features=1280, out_features=1280, bias=True)\n",
       "            (q_proj): Linear(in_features=1280, out_features=1280, bias=True)\n",
       "            (out_proj): Linear(in_features=1280, out_features=1280, bias=True)\n",
       "          )\n",
       "          (encoder_attn_layer_norm): LayerNorm((1280,), eps=1e-05, elementwise_affine=True)\n",
       "          (fc1): Linear(in_features=1280, out_features=5120, bias=True)\n",
       "          (fc2): Linear(in_features=5120, out_features=1280, bias=True)\n",
       "          (final_layer_norm): LayerNorm((1280,), eps=1e-05, elementwise_affine=True)\n",
       "        )\n",
       "      )\n",
       "      (layer_norm): LayerNorm((1280,), eps=1e-05, elementwise_affine=True)\n",
       "    )\n",
       "  )\n",
       "  (proj_out): Linear(in_features=1280, out_features=51866, bias=False)\n",
       ")"
      ]
     },
     "execution_count": 4,
     "metadata": {},
     "output_type": "execute_result"
    }
   ],
   "source": [
    "# set device, torch type, model parameters, move to 'device'\n",
    "\n",
    "# I think I can just use (and test sometime with 'cpu' instead)\n",
    "device = 'cpu'\n",
    "\n",
    "# unclear to me if M2 can use float16 (recommended for NVIDIA GPU per tutorial) so using float32\n",
    "torch_dtype = torch.float32\n",
    "\n",
    "model = AutoModelForSpeechSeq2Seq.from_pretrained(\n",
    "    model_id,\n",
    "    # language = 'en',\n",
    "    torch_dtype=torch_dtype,\n",
    "    low_cpu_mem_usage=True, # dropped because running on GPU\n",
    "    use_safetensors=True) # this is apparently faster and more secure? https://huggingface.co/docs/diffusers/v0.28.1/using-diffusers/using_safetensors\n",
    "\n",
    "# apparently moves model to GPU or specified device\n",
    "model.to(device)"
   ]
  },
  {
   "cell_type": "code",
   "execution_count": 5,
   "metadata": {},
   "outputs": [
    {
     "name": "stderr",
     "output_type": "stream",
     "text": [
      "Device set to use cpu\n"
     ]
    }
   ],
   "source": [
    "# pipe to hold model\n",
    "\n",
    "pipe = pipeline(\n",
    "    \"automatic-speech-recognition\",\n",
    "    model=model,\n",
    "    tokenizer=processor.tokenizer,\n",
    "    feature_extractor=processor.feature_extractor,\n",
    "    torch_dtype=torch_dtype,\n",
    "    device=device,\n",
    "    return_timestamps=True\n",
    ")"
   ]
  },
  {
   "cell_type": "code",
   "execution_count": 6,
   "metadata": {},
   "outputs": [
    {
     "name": "stderr",
     "output_type": "stream",
     "text": [
      "Due to a bug fix in https://github.com/huggingface/transformers/pull/28687 transcription using a multilingual Whisper will default to language detection followed by transcription instead of translation to English.This might be a breaking change for your use case. If you want to instead always translate your audio to English, make sure to pass `language='en'`.\n"
     ]
    },
    {
     "name": "stdout",
     "output_type": "stream",
     "text": [
      "The output is :  Key. 8, 8, 8, 7, 3, 8, 4, 4, 8, 2, 2, 3, 2, 5, 2, 2, 2, 4, 4, 4, 2, 2, 3, 3, 2, 1, 1, 4, 4.\n",
      "The model took 15.85 seconds.\n"
     ]
    }
   ],
   "source": [
    "# run model\n",
    "\n",
    "# warnings are annoying me\n",
    "warnings.filterwarnings(\"ignore\")\n",
    "\n",
    "# start time to see how long the model takes to run\n",
    "start_time = time.time()\n",
    "\n",
    "result = pipe(sample)\n",
    "print(f\"The output is : {result['text']}\")\n",
    "\n",
    "# stop time\n",
    "print(f\"The model took {round(time.time() - start_time, 2)} seconds.\")\n",
    "\n",
    "# turn warnings back on\n",
    "warnings.simplefilter(\"default\")"
   ]
  },
  {
   "cell_type": "markdown",
   "metadata": {},
   "source": [
    "# Speed Notes"
   ]
  },
  {
   "cell_type": "markdown",
   "metadata": {},
   "source": [
    "30 Mar 2025\\\n",
    "data = ./data/2045 Spring 2025 Exam 2 MW.wav\\\n",
    "model = whisper large v3\n",
    "- GPU: 4394.433904886246 seconds\n",
    "- CPU: 783.8126468658447 seconds\n",
    "\n",
    "30 Mar 2025\\\n",
    "data = ./data/2045 Spring 2025 Exam 2 MW.wav\\\n",
    "model = whisper large v3 turbo\n",
    "- GPU: 328.7707591056824 seconds\n",
    "- CPU: 213.9266393184662 seconds\n",
    "\n",
    "30 Mar 2025\\\n",
    "data = ./data/2045 Spring 2025 Exam 2 Key.wav\\\n",
    "model = whisper large v3 turbo\n",
    "- GPU: 18.15 seconds\n",
    "- CPU: 18.55 seconds\n",
    "\n",
    "30 Mar 2025\\\n",
    "data = ./data/2045 Spring 2025 Exam 2 Key.mp3\\\n",
    "model = whisper large v3 turbo\n",
    "- GPU: 16.13 seconds\n",
    "- CPU: 17.29 seconds\n",
    "\n",
    "30 Mar 2025 (repeated)\\\n",
    "data = ./data/2045 Spring 2025 Exam 2 Key.wav\\\n",
    "model = whisper large v3 turbo\n",
    "- GPU: 26.0 seconds\n",
    "- CPU: 15.85 seconds"
   ]
  },
  {
   "cell_type": "markdown",
   "metadata": {},
   "source": [
    "# Modifying Output"
   ]
  },
  {
   "cell_type": "code",
   "execution_count": 10,
   "metadata": {},
   "outputs": [
    {
     "data": {
      "text/plain": [
       "{'text': ' Key. 8, 8, 8, 7, 3, 8, 4, 4, 8, 2, 2, 3, 2, 5, 2, 2, 2, 4, 4, 4, 2, 2, 3, 3, 2, 1, 1, 4, 4.',\n",
       " 'chunks': [{'timestamp': (0.0, 29.0),\n",
       "   'text': ' Key. 8, 8, 8, 7, 3, 8, 4, 4, 8, 2, 2, 3, 2, 5, 2, 2, 2, 4, 4, 4, 2, 2, 3, 3,'},\n",
       "  {'timestamp': (0.0, 5.08), 'text': ' 2, 1, 1, 4, 4.'}]}"
      ]
     },
     "execution_count": 10,
     "metadata": {},
     "output_type": "execute_result"
    }
   ],
   "source": [
    "result"
   ]
  },
  {
   "cell_type": "markdown",
   "metadata": {},
   "source": [
    "# raw from Large V3 page"
   ]
  },
  {
   "cell_type": "code",
   "execution_count": null,
   "metadata": {},
   "outputs": [],
   "source": [
    "\n",
    "model = AutoModelForSpeechSeq2Seq.from_pretrained(\n",
    "    model_id, torch_dtype=torch_dtype, low_cpu_mem_usage=True, use_safetensors=True\n",
    ")\n",
    "model.to(device)\n",
    "\n",
    "processor = AutoProcessor.from_pretrained(model_id)\n",
    "\n",
    "pipe = pipeline(\n",
    "    \"automatic-speech-recognition\",\n",
    "    model=model,\n",
    "    tokenizer=processor.tokenizer,\n",
    "    feature_extractor=processor.feature_extractor,\n",
    "    torch_dtype=torch_dtype,\n",
    "    device=device,\n",
    ")\n",
    "\n",
    "dataset = load_dataset(\"distil-whisper/librispeech_long\", \"clean\", split=\"validation\")\n",
    "sample = dataset[0][\"audio\"]\n",
    "\n",
    "result = pipe(sample)\n",
    "print(result[\"text\"])\n"
   ]
  }
 ],
 "metadata": {
  "kernelspec": {
   "display_name": "AKStandard_AIML",
   "language": "python",
   "name": "python3"
  },
  "language_info": {
   "codemirror_mode": {
    "name": "ipython",
    "version": 3
   },
   "file_extension": ".py",
   "mimetype": "text/x-python",
   "name": "python",
   "nbconvert_exporter": "python",
   "pygments_lexer": "ipython3",
   "version": "3.11.9"
  }
 },
 "nbformat": 4,
 "nbformat_minor": 2
}
