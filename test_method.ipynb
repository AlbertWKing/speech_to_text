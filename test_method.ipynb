{
 "cells": [
  {
   "cell_type": "code",
   "execution_count": 55,
   "metadata": {},
   "outputs": [],
   "source": [
    "import librosa\n",
    "import matplotlib.pyplot as plt\n",
    "import numpy as np\n",
    "from datasets import load_dataset, Audio\n",
    "# import gradio as gr\n",
    "from transformers import pipeline\n",
    "# from transformers import WhisperFeatureExtractor\n",
    "import regex as re\n",
    "import pandas as pd\n",
    "\n",
    "from word2number import w2n"
   ]
  },
  {
   "cell_type": "code",
   "execution_count": 2,
   "metadata": {},
   "outputs": [
    {
     "name": "stderr",
     "output_type": "stream",
     "text": [
      "/var/folders/zd/qjtyx19s513b8nwpd06dxsmr0000gn/T/ipykernel_79988/3617220626.py:1: UserWarning: PySoundFile failed. Trying audioread instead.\n",
      "  array, sampling_rate = librosa.load(\"./data/test2short.m4a\")\n",
      "/opt/anaconda3/envs/AIML/lib/python3.8/site-packages/librosa/core/audio.py:184: FutureWarning: librosa.core.audio.__audioread_load\n",
      "\tDeprecated as of librosa version 0.10.0.\n",
      "\tIt will be removed in librosa version 1.0.\n",
      "  y, sr_native = __audioread_load(path, offset, duration, dtype)\n"
     ]
    },
    {
     "name": "stdout",
     "output_type": "stream",
     "text": [
      "{'So': [], 'I': [], 'do': [], 'know': [], 'six': [], 'two': [], 'four': [], 'three': [], 'eight': [], 'five': [], 'zero': [4, 8, 0, 1, 1, 2, 0, 0, 0, 0, 0, 1], 'one': [], 'Christina': [6], '4': [2], '1': [4], '2': [4, 2, 1, 4, 8, 4, 8, 4, 8, 4, 8, 4, 8, 4, 8, 4, 8, 4, 8, 4, 8, 4, 8, 4, 8, 4, 8, 4, 8, 4, 8, 4, 8, 4, 8, 4, 8, 4, 8, 4, 8, 4, 8, 4, 8, 4, 8, 4, 8, 4, 8, 4, 8, 4, 8, 4, 8, 4, 8, 4, 8, 4, 8, 4, 8, 4, 8, 4, 8, 4, 8, 4, 8, 4, 8, 4, 8, 4, 8, 4, 8, 4, 8, 4, 8, 4, 8, 4, 8, 4, 8, 4, 8, 4, 8, 4, 8, 4, 8, 4, 8, 4, 8, 4, 8, 4, 8, 4, 8, 4, 8, 4, 8, 4, 8, 4, 8, 4, 8, 4, 8, 4, 8, 4, 8, 4, 8, 4, 8, 4, 8, 4, 8, 4, 8, 4, 8, 4, 8, 4, 8, 4, 8, 4, 8, 4, 8, 4, 8, 4, 8, 4, 8, 4, 8, 4, 8, 4, 8, 4, 8, 4, 8, 4, 8, 4, 8, 4, 8, 4, 8, 4, 8, 4, 8, 4, 8, 4, 8, 4, 8, 4, 8, 4, 8, 4, 8, 4, 8, 4, 8, 4, 8, 4, 8, 4, 8, 4, 8, 4, 8, 4, 8, 4, 8, 4, 8, 4, 8, 4, 8, 4, 8, 4, 8, 4, 8, 4, 8, 4, 8, 4, 8, 4, 0.3323], 'Sarah': [6, 0, 0, 2, 2, 2, 2, 3, 3, 2, 1, 0, 6, 4, 8, 4, 3, 4, 2, 1, 2, 0, 2, 1, 0, 1, 0, 0, 3.5, 0, 1, 3, 3, 2, 2, 0, 0, 4, 0], 'Matthew': [], 'P': [6, 2, 2, 4, 4, 1, 1, 3, 3, 8, 3, 6, 6, 8, 4, 1413383664, 481132], 'Just': [], 'in': [6.124442303733068e+17, 1, 1, 2, 0, 0, 0, 0, 0, 0, 0, 0, 0, 0, 0, 0, 0, 0, 0, 0, 0, 0, 0, 0, 0, 0, 0, 0, 0, 0, 0, 0, 0, 0, 0, 0, 0, 0, 0, 0, 0, 0, 0, 0, 0, 0, 0, 0, 0, 0, 0, 0, 0, 0, 0, 0, 0, 0, 0, 0, 0, 0, 0, 0, 0, 0, 0, 0, 0, 0, 0, 0, 0, 0, 0, 0, 0, 0, 0, 0, 0, 0, 0, 0, 0, 0, 0, 0, 0, 0, 0, 0, 0, 0, 0, 0, 0, 0, 0, 0, 0, 0, 0, 0, 0, 0, 0, 0, 0, 0, 0, 0, 0, 0, 0, 0, 0, 0, 0, 0, 0, 0, 0, 0, 0, 0, 0, 0, 0, 0, 0, 0, 0, 0, 0, 0, 0, 0, 0, 0, 0, 0, 0, 0, 0, 0, 0, 0, 0, 0, 0, 0, 0, 0, 0, 0, 0, 0, 0, 0, 0, 0, 0, 0, 0, 0, 0, 0, 0, 0, 0, 0, 0, 0, 0, 0, 0, 0, 0, 0, 0, 0, 0, 0, 0, 0, 0, 0, 0, 0, 0, 0, 0, 0, 0, 0, 0, 0, 0, 0, 0, 0, 0, 0, 0, 0, 0, 0, 0, 0, 0, 0, 0, 4, 2, 4, 8, 2, 3, 3, 0, 0, 0, 0, 0, 0], 'Sophia': [6, 2, 2, 4, 3, 4, 2, 3, 3, 3, 3, 0, 3, 5, 5, 8, 2, 4, 8, 1, 1, 2, 0, 0, 0, 3, 0], 'Two': []}\n"
     ]
    }
   ],
   "source": [
    "array, sampling_rate = librosa.load(\"./data/test2short.m4a\")\n",
    "# asr = pipeline(\"automatic-speech-recognition\", model = \"openai/whisper-tiny.en\")\n",
    "asr = pipeline(\"automatic-speech-recognition\", model = \"openai/whisper-base.en\")\n",
    "# asr = pipeline(\"automatic-speech-recognition\", model = \"openai/whisper-large-v3\")\n",
    "# asr = pipeline(\"automatic-speech-recognition\", model=\"facebook/wav2vec2-base-960h\")\n",
    "result = asr(array, chunk_length_s=30, batch_size=8,)\n",
    "result\n",
    "\n",
    "outcome = re.findall(r'\\d+', result['text'])\n",
    "\n",
    "for x in range(0,len(outcome)):\n",
    "    outcome[x] = int(outcome[x])\n",
    "sum(outcome)\n",
    "\n",
    "input_str = result['text']\n",
    "\n",
    "pattern = r\"(\\w+)((?:[\\s\\d.,]+)+)\"\n",
    "\n",
    "# Find all matches in the input string\n",
    "matches = re.findall(pattern, input_str)\n",
    "\n",
    "# Initialize the dictionary\n",
    "result = {}\n",
    "\n",
    "# Iterate through matches and populate the dictionary\n",
    "for match in matches:\n",
    "    name = match[0]\n",
    "    numbers = re.findall(r\"[-+]?\\d*\\.\\d+|\\d+\", match[1])\n",
    "    result[name] = [float(num) if '.' in num else int(num) for num in numbers]\n",
    "\n",
    "# Print the result\n",
    "print(result)\n",
    "\n",
    "# df = pd.DataFrame(result).T\n",
    "# df['total'] = df.sum(axis=1)\n",
    "# df"
   ]
  },
  {
   "cell_type": "code",
   "execution_count": null,
   "metadata": {},
   "outputs": [],
   "source": [
    "array, sampling_rate = librosa.load(\"./data/test2long.m4a\")\n",
    "# asr = pipeline(\"automatic-speech-recognition\", model = \"openai/whisper-tiny.en\")\n",
    "asr = pipeline(\"automatic-speech-recognition\", model = \"openai/whisper-base.en\")\n",
    "# asr = pipeline(\"automatic-speech-recognition\", model = \"openai/whisper-large-v3\")\n",
    "# asr = pipeline(\"automatic-speech-recognition\", model=\"facebook/wav2vec2-base-960h\")\n",
    "result = asr(array, chunk_length_s=30, batch_size=8,)\n",
    "result"
   ]
  },
  {
   "cell_type": "code",
   "execution_count": 62,
   "metadata": {},
   "outputs": [
    {
     "name": "stderr",
     "output_type": "stream",
     "text": [
      "/var/folders/zd/qjtyx19s513b8nwpd06dxsmr0000gn/T/ipykernel_79988/1168537970.py:1: UserWarning: PySoundFile failed. Trying audioread instead.\n",
      "  array, sampling_rate = librosa.load(\"./data/key_2045S25E1.m4a\")\n",
      "/opt/anaconda3/envs/AIML/lib/python3.8/site-packages/librosa/core/audio.py:184: FutureWarning: librosa.core.audio.__audioread_load\n",
      "\tDeprecated as of librosa version 0.10.0.\n",
      "\tIt will be removed in librosa version 1.0.\n",
      "  y, sr_native = __audioread_load(path, offset, duration, dtype)\n"
     ]
    }
   ],
   "source": [
    "array, sampling_rate = librosa.load(\"./data/key_2045S25E1.m4a\")"
   ]
  },
  {
   "cell_type": "code",
   "execution_count": 114,
   "metadata": {},
   "outputs": [
    {
     "name": "stderr",
     "output_type": "stream",
     "text": [
      "/var/folders/zd/qjtyx19s513b8nwpd06dxsmr0000gn/T/ipykernel_79988/140223701.py:1: UserWarning: PySoundFile failed. Trying audioread instead.\n",
      "  array, sampling_rate = librosa.load(\"./data/mw.m4a\")\n",
      "/opt/anaconda3/envs/AIML/lib/python3.8/site-packages/librosa/core/audio.py:184: FutureWarning: librosa.core.audio.__audioread_load\n",
      "\tDeprecated as of librosa version 0.10.0.\n",
      "\tIt will be removed in librosa version 1.0.\n",
      "  y, sr_native = __audioread_load(path, offset, duration, dtype)\n"
     ]
    }
   ],
   "source": [
    "array, sampling_rate = librosa.load(\"./data/mw.m4a\")"
   ]
  },
  {
   "cell_type": "code",
   "execution_count": null,
   "metadata": {},
   "outputs": [],
   "source": [
    "asr = pipeline(\"automatic-speech-recognition\", model = \"openai/whisper-large-v3\")\n",
    "result = asr(array, chunk_length_s=10, batch_size=4,)\n",
    "output = result['text'].replace(\",\", '').split()"
   ]
  },
  {
   "cell_type": "code",
   "execution_count": 119,
   "metadata": {},
   "outputs": [
    {
     "name": "stderr",
     "output_type": "stream",
     "text": [
      "/var/folders/zd/qjtyx19s513b8nwpd06dxsmr0000gn/T/ipykernel_79988/3312475130.py:1: UserWarning: PySoundFile failed. Trying audioread instead.\n",
      "  array, sampling_rate = librosa.load(\"./data/tr.m4a\")\n",
      "/opt/anaconda3/envs/AIML/lib/python3.8/site-packages/librosa/core/audio.py:184: FutureWarning: librosa.core.audio.__audioread_load\n",
      "\tDeprecated as of librosa version 0.10.0.\n",
      "\tIt will be removed in librosa version 1.0.\n",
      "  y, sr_native = __audioread_load(path, offset, duration, dtype)\n",
      "Special tokens have been added in the vocabulary, make sure the associated word embeddings are fine-tuned or trained.\n"
     ]
    },
    {
     "data": {
      "text/plain": [
       "{'text': \" Carillon, 6, 2, six, three, 2, 2 2 6 6 4 4, 0, 4, 6, 8, 4, eight four three three three three 3, 3, 4, 3. Three. Sakina. 6, 2, 3, 3, 3, 3, three six, four, four. four six eight 8, 4, 3, 3, 3, 3313 Sean Sean, two, four, three, 3 6, 3, 3, 3, 2, 1. two six six four four See ya. See ya. See ya. See ya. 4.5 8 4 3 4 one three two 3, 2, 1, 2. Two. Hey. seven six six four six five 5 4 3 3 6 6 6, 4, 4, 4.5842 four two four 3 2 3 3, 2, 3. Ciao! 3 4 0 0 5 5 5, 3, 3, 2, 1. two three zero five four zero zero four six 6, 5, 4, 3, three, 3-1-3-0 three zero two Yeah. For now. four, three, six, 6 6 3 3 3, 6, 5.5, four, four six seven seven, four, three, four, three, three four three three Tori. 10 5 3 3 4 4 4, 3, 1, two. Thank you. 4, 6, 8, 8 4 3 4 5 3, 4, 1, 1 3 3 1 1, 0. okay Megan 9.4 four, four, 2, two, two, six, 6 5.5 4 four two 4, 6, three, 3, 3, 3 3 0 0 1 one. Raker 4-0-0 zero, six, 2, 3, 3 0 6 6 6, 4, 4, four three eight eight, four, 4, three three three zero three Three. Wave one. 9 6 3 6 6 6, 4, five, 2.514 4 4 6 six, eight, two, three, four, 1 3 3 three, four, one. Okay. Gabby 10-4-0 four zero four five 4 5 4 1 2 two, six, six, 6 6 2 2 two one three five 3, 5, 4, 3, 4, three four three three 3 3 0, 0. We'll win. 7 4 2 two, six, four, three, two, one four two 4 4 3 8 eight four three four 4 3 2 0 0 0. Rachel 938 three, one, 3, six, six. six six four two 2, 4, 4.5, 8, 4, 3. four three four 1-3-0-0-1 zero zero two Jack Warren. Jack 1, 10, 6, 2, 6, three, three, three, 3 3 6 6 six, four, 7, 4, seven four three four four, three, three, 1, 1. Amen. Gabriella, 10. 10, 4, 3, 3 5 5 3 3, 2, 3, 3, 3 4 6 4 four four four 4, 4.5, 8, eight four three four 4, 1, 3, one three three zero three three water 9 6 3 six, five, three, three, three, 3366 6, 6, 4, 2, 4, 6, 8, 8 4 3 4 four, one, three, three, four, three. Thomas 9 nine six zero six six four four three 4, 3, 3, four, two, four two four four 4.5 8.4 8, 4, 3, 4... three three three four 3, 4, 3. you Daniel 8 8605 05543 four, three, three, three, two, two zero two two one to 1.5846. four, three, four, two, three, three zero zero Claudia 10 3 0 0 6 5 5, 3, 1, 2, 1, 6, 2, 4, 4. 4 4 6 7 four, six, five, four, one. one zero 1-0-1-1-1-0 one Rodney Turnbull. 10 4 3 4, 4, 3, 2, three two two one two to 0.522 one one one 1, 4, 3, 2, 1. one one zero zero zero zero Andrea 10 10 4 4 6 four six five two 1, 1, 2, 6, 6, 4, 4 4 4 6 six, eight, four, two, four. one three zero one one one um O Nado. 10 6 0 six zero five 5, 6, 3, 3 6 six, six, four, four, six six, eight, four, three, four three four 1-3-0-0-1 Zero. Zero. Three. Olivia 10 10 4 2 four five two three 2 3 3 3 three, four, six, four, four two for 4.58 eight, four, three, four, One, three, two, three two one one one Vielen Dank. 10 4 3 3, 6, three, three, three, 3 3 3 6 6 six six four two 4 2.5 7 seven, four, three, four, one, 1100 zero, zero.\"}"
      ]
     },
     "execution_count": 119,
     "metadata": {},
     "output_type": "execute_result"
    }
   ],
   "source": [
    "array, sampling_rate = librosa.load(\"./data/tr.m4a\")\n",
    "asr = pipeline(\"automatic-speech-recognition\", model = \"openai/whisper-large-v3\")\n",
    "result = asr(array, chunk_length_s=4, batch_size=2,)\n",
    "result"
   ]
  },
  {
   "cell_type": "code",
   "execution_count": 120,
   "metadata": {},
   "outputs": [],
   "source": [
    "with open(\"./data/tr_out.txt\", 'a') as file:\n",
    "    file.write(result['text'])"
   ]
  },
  {
   "cell_type": "code",
   "execution_count": null,
   "metadata": {},
   "outputs": [],
   "source": [
    "\n",
    "integer_output = []\n",
    "for x in output:\n",
    "    try:\n",
    "        integer_output.append(int(x))\n",
    "    except:\n",
    "        integer_output.append(int(w2n.word_to_num(x)))\n",
    "print(integer_output)"
   ]
  },
  {
   "cell_type": "code",
   "execution_count": 100,
   "metadata": {},
   "outputs": [
    {
     "data": {
      "text/plain": [
       "{'text': ' Joe 10-6-4-6-6-4-3-3-3-6-6-4-4'}"
      ]
     },
     "execution_count": 100,
     "metadata": {},
     "output_type": "execute_result"
    }
   ],
   "source": [
    "result"
   ]
  },
  {
   "cell_type": "code",
   "execution_count": 105,
   "metadata": {},
   "outputs": [
    {
     "data": {
      "text/plain": [
       "13"
      ]
     },
     "execution_count": 105,
     "metadata": {},
     "output_type": "execute_result"
    }
   ],
   "source": [
    "result = asr(array, chunk_length_s=45, batch_size=8,)\n",
    "output = result['text'].replace(\",\", '').split()\n",
    "len(output)"
   ]
  },
  {
   "cell_type": "code",
   "execution_count": 111,
   "metadata": {},
   "outputs": [
    {
     "data": {
      "text/plain": [
       "['Joe',\n",
       " '10-6-4-6-6-4-3-3-3-6-6-4-4',\n",
       " '4',\n",
       " '6',\n",
       " '8',\n",
       " '4',\n",
       " '3',\n",
       " '4',\n",
       " '3',\n",
       " '3',\n",
       " '3',\n",
       " '4',\n",
       " '3.']"
      ]
     },
     "execution_count": 111,
     "metadata": {},
     "output_type": "execute_result"
    }
   ],
   "source": [
    "result = asr(array, chunk_length_s=45, batch_size=2,)\n",
    "output = result['text'].replace(\",\", '').split()\n",
    "output"
   ]
  },
  {
   "cell_type": "code",
   "execution_count": 109,
   "metadata": {},
   "outputs": [
    {
     "data": {
      "text/plain": [
       "['Joe',\n",
       " '10-6-4-6-6-4-3-3-3-6-6-4-4',\n",
       " '4',\n",
       " '6',\n",
       " '8',\n",
       " '4',\n",
       " '3',\n",
       " '4',\n",
       " '3',\n",
       " '3',\n",
       " '3',\n",
       " '4',\n",
       " '3.']"
      ]
     },
     "execution_count": 109,
     "metadata": {},
     "output_type": "execute_result"
    }
   ],
   "source": [
    "output"
   ]
  },
  {
   "cell_type": "code",
   "execution_count": 80,
   "metadata": {},
   "outputs": [],
   "source": [
    "output_test = output.copy()\n",
    "output_test.remove('Joe')"
   ]
  },
  {
   "cell_type": "code",
   "execution_count": 84,
   "metadata": {},
   "outputs": [],
   "source": [
    "for x in range(0,len(output_test)):\n",
    "    output_test[x].replace(\"-\",'')"
   ]
  },
  {
   "cell_type": "code",
   "execution_count": 86,
   "metadata": {},
   "outputs": [],
   "source": [
    "output_test[0] = output_test[0].replace(\"-\",\" \",)"
   ]
  },
  {
   "cell_type": "code",
   "execution_count": 87,
   "metadata": {},
   "outputs": [
    {
     "data": {
      "text/plain": [
       "['10 6 4 6 6 4 3 3 3 6 6 4 4',\n",
       " '3',\n",
       " '3',\n",
       " '3',\n",
       " '6',\n",
       " '6',\n",
       " '4',\n",
       " '4',\n",
       " '4',\n",
       " '6',\n",
       " '8',\n",
       " '4',\n",
       " '3',\n",
       " '4',\n",
       " '3',\n",
       " '3',\n",
       " '3',\n",
       " '4',\n",
       " '3']"
      ]
     },
     "execution_count": 87,
     "metadata": {},
     "output_type": "execute_result"
    }
   ],
   "source": [
    "output_test"
   ]
  },
  {
   "cell_type": "code",
   "execution_count": 72,
   "metadata": {},
   "outputs": [
    {
     "data": {
      "text/plain": [
       "153"
      ]
     },
     "execution_count": 72,
     "metadata": {},
     "output_type": "execute_result"
    }
   ],
   "source": [
    "sum(integer_output)"
   ]
  },
  {
   "cell_type": "code",
   "execution_count": 4,
   "metadata": {},
   "outputs": [
    {
     "ename": "KeyError",
     "evalue": "'text'",
     "output_type": "error",
     "traceback": [
      "\u001b[0;31m---------------------------------------------------------------------------\u001b[0m",
      "\u001b[0;31mKeyError\u001b[0m                                  Traceback (most recent call last)",
      "Cell \u001b[0;32mIn[4], line 1\u001b[0m\n\u001b[0;32m----> 1\u001b[0m outcome \u001b[38;5;241m=\u001b[39m re\u001b[38;5;241m.\u001b[39mfindall(\u001b[38;5;124mr\u001b[39m\u001b[38;5;124m'\u001b[39m\u001b[38;5;124m\\\u001b[39m\u001b[38;5;124md+\u001b[39m\u001b[38;5;124m'\u001b[39m, \u001b[43mresult\u001b[49m\u001b[43m[\u001b[49m\u001b[38;5;124;43m'\u001b[39;49m\u001b[38;5;124;43mtext\u001b[39;49m\u001b[38;5;124;43m'\u001b[39;49m\u001b[43m]\u001b[49m)\n\u001b[1;32m      3\u001b[0m \u001b[38;5;28;01mfor\u001b[39;00m x \u001b[38;5;129;01min\u001b[39;00m \u001b[38;5;28mrange\u001b[39m(\u001b[38;5;241m0\u001b[39m,\u001b[38;5;28mlen\u001b[39m(outcome)):\n\u001b[1;32m      4\u001b[0m     outcome[x] \u001b[38;5;241m=\u001b[39m \u001b[38;5;28mint\u001b[39m(outcome[x])\n",
      "\u001b[0;31mKeyError\u001b[0m: 'text'"
     ]
    }
   ],
   "source": [
    "\n",
    "outcome = re.findall(r'\\d+', result['text'])\n",
    "\n",
    "for x in range(0,len(outcome)):\n",
    "    outcome[x] = int(outcome[x])\n",
    "sum(outcome)\n",
    "\n",
    "input_str = result['text']\n",
    "\n",
    "pattern = r\"(\\w+)((?:[\\s\\d.,]+)+)\"\n",
    "\n",
    "# Find all matches in the input string\n",
    "matches = re.findall(pattern, input_str)\n",
    "\n",
    "# Initialize the dictionary\n",
    "result = {}\n",
    "\n",
    "# Iterate through matches and populate the dictionary\n",
    "for match in matches:\n",
    "    name = match[0]\n",
    "    numbers = re.findall(r\"[-+]?\\d*\\.\\d+|\\d+\", match[1])\n",
    "    result[name] = [float(num) if '.' in num else int(num) for num in numbers]\n",
    "\n",
    "# Print the result\n",
    "print(result)\n",
    "\n",
    "# df = pd.DataFrame(result).T\n",
    "# df['total'] = df.sum(axis=1)\n",
    "# df"
   ]
  },
  {
   "cell_type": "code",
   "execution_count": 11,
   "metadata": {},
   "outputs": [
    {
     "data": {
      "text/plain": [
       "' Santiago 6 2 2 4 4 2 3 3 3 4 2 4 6 6 6 6 three, four, two, four, six, six, six, four, four, eight, two, three, five, zero, two, one, one, four, two, Robert 6 0 0 4 1 2 2, 2, 3, 1, 6, 2, 0, 6, 6, 2, 4, 2.5,20000000 Matthew 6 2 2 4 3 4 1 1 3 3 8 1.5 4 6 6 8 4 4 8 3, 5, 4, 0, 0, 0, 0, 0, 5, 5, 5, 5, 5, 5, 5, 5, 5, 5, 5, 5, 5, 5, 5, 5, 5, 5, 5, 5, 5, 5, 5, 5, 5, 5, 5, 5, 5, 5, 5, 5, 5, 5, 5, 5, 5, 5, 5, 5, 5, 5, 5, 5, 5, 5, 5, 5, 5, 5, 5, 5, 5, 5, 5, 5, 5, 5, 5, 5, 5, 5, 5, 5, 5, 5, 5, 5, 5, 5, 5, 5, 5, 5, 5, 5, 5, 5, 5, 5, 5, 5, 5, 5, 5, 5, 5, 5, 5, 5, 5, 5, 5, 5, 5, 5, 5, 5, 5, 5, 5, 5, 5, 5, 5, 5, 5, 5, 5, 5, 5, 5, 5, 5, 5, 5, 5, 5, 5, 5, 5, 5, 5, 5, 5, 5, 5, 5, 5, 5, 5, 5, 5, 5, 5, 5, 5, 5, 5, 5, 5, 5, 5, 5, 5, 5, 5, 5, 5, 5, 5, 5, 5, 5, 5, 5, 5, 5, 5, 5, 5, 5, 5, 5, 5, 5, 5, 5, 5, 5, 5, 5, 5, 5, 5, 5, 5, 5, 5, 5, 5, 5, 5, 5, 5, 5, 5, 5, 5, 5, 5, 5, 5, 5, 5, 5, 5, 5, 5, 5, 5, 5, 5, 5, three, four, six, eight, four, four, eight one three five six two one one four two two, 3 1.5 0 0 1 5 6 4 0 3.5 6 0 1 1 0 0 0 0 zero, one, one, zero, zero, zero, zero, zero, zero. In the family, six, two, two, four, four, four, four, two, three, three, three, eight, 1.5, four, six, six, eight, four, four, eight, two, three, five, four, two, one, four four four two three three three, three, three, eight, three, four, six, six, eight, four, four, eight, one, three, five, four, two, one, one, four, two, ten, six, two, two, four, four, four, two, three, three, three, eight, three, four, six, six, eight, four, two three five six two one four four four four four two three two three eight three four six six eight four two eight one three three four two, zero, three, three, three. Sarah, six, zero, zero, two, two, two, three, two one one zero six four eight four two one two zero two one zero one zero 6, 2, 2, 2, 4, 4, 2, 3, 3, 3, 7, 3, 0, 5, 5, 6, 4, 3.5, 0, 1, 3, 3, 2, 2, 0, 0, 4, 0. Matthew pagan four, one, one, three, three, eight, three, six, eight, four, four, eight, one, one, three two one zero zero four, four, four, two, three, zero, three, seven, three, zero, six, six, eight, one, two, three, zero, 3 0 6 6 8 1 2.5 4 1 1 2 0 0 0 0 0 zero, zero, zero, zero, zero, four, four, four, two, three, three, three, eight three three three zero five six six three two zero zero zero zero zero zero zero zero zero zero zero zero zero zero zero zero zero zero zero zero zero zero zero zero zero zero zero zero zero zero zero zero zero zero zero zero zero zero zero zero zero zero zero zero zero zero zero zero zero zero zero zero zero zero zero zero zero zero zero zero zero zero zero zero zero zero zero zero zero zero zero zero zero zero zero zero zero zero zero zero zero zero zero zero zero zero zero zero zero zero zero zero zero zero zero zero zero zero zero zero zero zero zero zero zero zero zero zero zero zero zero zero zero zero zero zero zero zero zero zero zero zero zero zero zero zero zero zero zero zero zero zero zero zero zero zero zero zero zero zero zero zero zero zero zero zero zero zero zero zero zero zero zero zero zero zero zero zero zero zero zero zero zero zero zero zero zero zero zero zero zero zero zero zero zero zero zero zero zero zero zero zero zero zero zero zero zero zero zero zero zero zero zero zero zero zero zero zero zero zero zero zero zero zero zero zero zero zero zero zero zero zero zero zero zero zero zero zero zero zero zero zero zero zero zero zero zero zero zero zero zero zero zero zero zero zero zero zero zero zero zero zero zero zero zero zero zero zero zero zero zero zero zero zero zero zero zero zero zero zero zero zero zero zero zero zero zero zero zero zero zero zero zero zero zero zero zero zero zero zero zero zero zero zero zero zero zero zero zero zero zero zero zero zero zero zero zero zero zero zero zero zero zero zero zero zero zero zero zero zero zero zero zero zero zero zero zero zero zero zero zero zero zero zero zero zero zero zero zero zero zero zero zero zero zero zero zero zero zero zero zero zero zero zero zero zero zero zero zero zero zero zero zero zero zero zero zero zero zero zero zero zero zero zero zero zero zero zero zero zero zero zero zero zero zero zero zero zero zero zero zero zero zero zero zero zero zero zero zero zero zero zero zero zero zero zero zero zero zero zero zero zero zero zero zero zero zero zero zero zero zero zero zero zero zero zero zero zero zero zero zero zero zero zero zero zero zero zero zero zero zero zero Emily 2 4 4 4 2 1 3 3 8 1.5 1 6 6 4 2 4 8 2 3 3 0 So Sofia six two two four three four two three three three three zero three, five, five, eight, two, four, eight, one, one, two, zero, zero, zero, zero, three, zero. 0 0 0 3 0 Jack 6 2 2 4 3 4 2 3 3 3 8 3 1 four two three three three eight three one three six eight four one one three four two zero zero three 1, 1, 3, 4, 2, 0, 0, 3, 0, Kyle. 6, 2, 2, 4, 2, 5, 1, 1, 1, 3, 2, 0, 5, 4, one, two, zero, zero, zero, zero, one.'"
      ]
     },
     "execution_count": 11,
     "metadata": {},
     "output_type": "execute_result"
    }
   ],
   "source": [
    "input_str"
   ]
  }
 ],
 "metadata": {
  "kernelspec": {
   "display_name": "AIML",
   "language": "python",
   "name": "python3"
  },
  "language_info": {
   "codemirror_mode": {
    "name": "ipython",
    "version": 3
   },
   "file_extension": ".py",
   "mimetype": "text/x-python",
   "name": "python",
   "nbconvert_exporter": "python",
   "pygments_lexer": "ipython3",
   "version": "3.8.15"
  }
 },
 "nbformat": 4,
 "nbformat_minor": 2
}
