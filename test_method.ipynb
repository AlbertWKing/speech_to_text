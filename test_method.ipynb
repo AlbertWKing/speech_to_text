{
 "cells": [
  {
   "cell_type": "code",
   "execution_count": 55,
   "metadata": {},
   "outputs": [],
   "source": [
    "import librosa\n",
    "import matplotlib.pyplot as plt\n",
    "import numpy as np\n",
    "from datasets import load_dataset, Audio\n",
    "# import gradio as gr\n",
    "from transformers import pipeline\n",
    "# from transformers import WhisperFeatureExtractor\n",
    "import regex as re\n",
    "import pandas as pd\n",
    "\n",
    "from word2number import w2n"
   ]
  },
  {
   "cell_type": "code",
   "execution_count": null,
   "metadata": {},
   "outputs": [],
   "source": [
    "array, sampling_rate = librosa.load(\"./data/test2short.m4a\")\n",
    "# asr = pipeline(\"automatic-speech-recognition\", model = \"openai/whisper-tiny.en\")\n",
    "asr = pipeline(\"automatic-speech-recognition\", model = \"openai/whisper-base.en\")\n",
    "# asr = pipeline(\"automatic-speech-recognition\", model = \"openai/whisper-large-v3\")\n",
    "# asr = pipeline(\"automatic-speech-recognition\", model=\"facebook/wav2vec2-base-960h\")\n",
    "result = asr(array, chunk_length_s=30, batch_size=8,)\n",
    "result\n",
    "\n",
    "outcome = re.findall(r'\\d+', result['text'])\n",
    "\n",
    "for x in range(0,len(outcome)):\n",
    "    outcome[x] = int(outcome[x])\n",
    "sum(outcome)\n",
    "\n",
    "input_str = result['text']\n",
    "\n",
    "pattern = r\"(\\w+)((?:[\\s\\d.,]+)+)\"\n",
    "\n",
    "# Find all matches in the input string\n",
    "matches = re.findall(pattern, input_str)\n",
    "\n",
    "# Initialize the dictionary\n",
    "result = {}\n",
    "\n",
    "# Iterate through matches and populate the dictionary\n",
    "for match in matches:\n",
    "    name = match[0]\n",
    "    numbers = re.findall(r\"[-+]?\\d*\\.\\d+|\\d+\", match[1])\n",
    "    result[name] = [float(num) if '.' in num else int(num) for num in numbers]\n",
    "\n",
    "# Print the result\n",
    "print(result)\n",
    "\n",
    "# df = pd.DataFrame(result).T\n",
    "# df['total'] = df.sum(axis=1)\n",
    "# df"
   ]
  },
  {
   "cell_type": "code",
   "execution_count": null,
   "metadata": {},
   "outputs": [],
   "source": [
    "array, sampling_rate = librosa.load(\"./data/test2long.m4a\")\n",
    "# asr = pipeline(\"automatic-speech-recognition\", model = \"openai/whisper-tiny.en\")\n",
    "asr = pipeline(\"automatic-speech-recognition\", model = \"openai/whisper-base.en\")\n",
    "# asr = pipeline(\"automatic-speech-recognition\", model = \"openai/whisper-large-v3\")\n",
    "# asr = pipeline(\"automatic-speech-recognition\", model=\"facebook/wav2vec2-base-960h\")\n",
    "result = asr(array, chunk_length_s=30, batch_size=8,)\n",
    "result"
   ]
  },
  {
   "cell_type": "code",
   "execution_count": 62,
   "metadata": {},
   "outputs": [
    {
     "name": "stderr",
     "output_type": "stream",
     "text": [
      "/var/folders/zd/qjtyx19s513b8nwpd06dxsmr0000gn/T/ipykernel_79988/1168537970.py:1: UserWarning: PySoundFile failed. Trying audioread instead.\n",
      "  array, sampling_rate = librosa.load(\"./data/key_2045S25E1.m4a\")\n",
      "/opt/anaconda3/envs/AIML/lib/python3.8/site-packages/librosa/core/audio.py:184: FutureWarning: librosa.core.audio.__audioread_load\n",
      "\tDeprecated as of librosa version 0.10.0.\n",
      "\tIt will be removed in librosa version 1.0.\n",
      "  y, sr_native = __audioread_load(path, offset, duration, dtype)\n"
     ]
    }
   ],
   "source": [
    "array, sampling_rate = librosa.load(\"./data/key_2045S25E1.m4a\")"
   ]
  },
  {
   "cell_type": "code",
   "execution_count": 114,
   "metadata": {},
   "outputs": [
    {
     "name": "stderr",
     "output_type": "stream",
     "text": [
      "/var/folders/zd/qjtyx19s513b8nwpd06dxsmr0000gn/T/ipykernel_79988/140223701.py:1: UserWarning: PySoundFile failed. Trying audioread instead.\n",
      "  array, sampling_rate = librosa.load(\"./data/mw.m4a\")\n",
      "/opt/anaconda3/envs/AIML/lib/python3.8/site-packages/librosa/core/audio.py:184: FutureWarning: librosa.core.audio.__audioread_load\n",
      "\tDeprecated as of librosa version 0.10.0.\n",
      "\tIt will be removed in librosa version 1.0.\n",
      "  y, sr_native = __audioread_load(path, offset, duration, dtype)\n"
     ]
    }
   ],
   "source": [
    "array, sampling_rate = librosa.load(\"./data/mw.m4a\")"
   ]
  },
  {
   "cell_type": "code",
   "execution_count": null,
   "metadata": {},
   "outputs": [],
   "source": [
    "asr = pipeline(\"automatic-speech-recognition\", model = \"openai/whisper-large-v3\")\n",
    "result = asr(array, chunk_length_s=10, batch_size=4,)\n",
    "output = result['text'].replace(\",\", '').split()"
   ]
  },
  {
   "cell_type": "code",
   "execution_count": null,
   "metadata": {},
   "outputs": [],
   "source": [
    "array, sampling_rate = librosa.load(\"./data/tr.m4a\")\n",
    "asr = pipeline(\"automatic-speech-recognition\", model = \"openai/whisper-large-v3\")\n",
    "result = asr(array, chunk_length_s=4, batch_size=2,)\n",
    "result"
   ]
  },
  {
   "cell_type": "code",
   "execution_count": 120,
   "metadata": {},
   "outputs": [],
   "source": [
    "with open(\"./data/tr_out.txt\", 'a') as file:\n",
    "    file.write(result['text'])"
   ]
  },
  {
   "cell_type": "code",
   "execution_count": null,
   "metadata": {},
   "outputs": [],
   "source": [
    "\n",
    "integer_output = []\n",
    "for x in output:\n",
    "    try:\n",
    "        integer_output.append(int(x))\n",
    "    except:\n",
    "        integer_output.append(int(w2n.word_to_num(x)))\n",
    "print(integer_output)"
   ]
  },
  {
   "cell_type": "code",
   "execution_count": 100,
   "metadata": {},
   "outputs": [
    {
     "data": {
      "text/plain": [
       "{'text': ' Joe 10-6-4-6-6-4-3-3-3-6-6-4-4'}"
      ]
     },
     "execution_count": 100,
     "metadata": {},
     "output_type": "execute_result"
    }
   ],
   "source": [
    "result"
   ]
  },
  {
   "cell_type": "code",
   "execution_count": 105,
   "metadata": {},
   "outputs": [
    {
     "data": {
      "text/plain": [
       "13"
      ]
     },
     "execution_count": 105,
     "metadata": {},
     "output_type": "execute_result"
    }
   ],
   "source": [
    "result = asr(array, chunk_length_s=45, batch_size=8,)\n",
    "output = result['text'].replace(\",\", '').split()\n",
    "len(output)"
   ]
  },
  {
   "cell_type": "code",
   "execution_count": 111,
   "metadata": {},
   "outputs": [
    {
     "data": {
      "text/plain": [
       "['Joe',\n",
       " '10-6-4-6-6-4-3-3-3-6-6-4-4',\n",
       " '4',\n",
       " '6',\n",
       " '8',\n",
       " '4',\n",
       " '3',\n",
       " '4',\n",
       " '3',\n",
       " '3',\n",
       " '3',\n",
       " '4',\n",
       " '3.']"
      ]
     },
     "execution_count": 111,
     "metadata": {},
     "output_type": "execute_result"
    }
   ],
   "source": [
    "result = asr(array, chunk_length_s=45, batch_size=2,)\n",
    "output = result['text'].replace(\",\", '').split()\n",
    "output"
   ]
  },
  {
   "cell_type": "code",
   "execution_count": 109,
   "metadata": {},
   "outputs": [
    {
     "data": {
      "text/plain": [
       "['Joe',\n",
       " '10-6-4-6-6-4-3-3-3-6-6-4-4',\n",
       " '4',\n",
       " '6',\n",
       " '8',\n",
       " '4',\n",
       " '3',\n",
       " '4',\n",
       " '3',\n",
       " '3',\n",
       " '3',\n",
       " '4',\n",
       " '3.']"
      ]
     },
     "execution_count": 109,
     "metadata": {},
     "output_type": "execute_result"
    }
   ],
   "source": [
    "output"
   ]
  },
  {
   "cell_type": "code",
   "execution_count": 80,
   "metadata": {},
   "outputs": [],
   "source": [
    "output_test = output.copy()\n",
    "output_test.remove('Joe')"
   ]
  },
  {
   "cell_type": "code",
   "execution_count": 84,
   "metadata": {},
   "outputs": [],
   "source": [
    "for x in range(0,len(output_test)):\n",
    "    output_test[x].replace(\"-\",'')"
   ]
  },
  {
   "cell_type": "code",
   "execution_count": 86,
   "metadata": {},
   "outputs": [],
   "source": [
    "output_test[0] = output_test[0].replace(\"-\",\" \",)"
   ]
  },
  {
   "cell_type": "code",
   "execution_count": 87,
   "metadata": {},
   "outputs": [
    {
     "data": {
      "text/plain": [
       "['10 6 4 6 6 4 3 3 3 6 6 4 4',\n",
       " '3',\n",
       " '3',\n",
       " '3',\n",
       " '6',\n",
       " '6',\n",
       " '4',\n",
       " '4',\n",
       " '4',\n",
       " '6',\n",
       " '8',\n",
       " '4',\n",
       " '3',\n",
       " '4',\n",
       " '3',\n",
       " '3',\n",
       " '3',\n",
       " '4',\n",
       " '3']"
      ]
     },
     "execution_count": 87,
     "metadata": {},
     "output_type": "execute_result"
    }
   ],
   "source": [
    "output_test"
   ]
  },
  {
   "cell_type": "code",
   "execution_count": 72,
   "metadata": {},
   "outputs": [
    {
     "data": {
      "text/plain": [
       "153"
      ]
     },
     "execution_count": 72,
     "metadata": {},
     "output_type": "execute_result"
    }
   ],
   "source": [
    "sum(integer_output)"
   ]
  },
  {
   "cell_type": "code",
   "execution_count": 4,
   "metadata": {},
   "outputs": [
    {
     "ename": "KeyError",
     "evalue": "'text'",
     "output_type": "error",
     "traceback": [
      "\u001b[0;31m---------------------------------------------------------------------------\u001b[0m",
      "\u001b[0;31mKeyError\u001b[0m                                  Traceback (most recent call last)",
      "Cell \u001b[0;32mIn[4], line 1\u001b[0m\n\u001b[0;32m----> 1\u001b[0m outcome \u001b[38;5;241m=\u001b[39m re\u001b[38;5;241m.\u001b[39mfindall(\u001b[38;5;124mr\u001b[39m\u001b[38;5;124m'\u001b[39m\u001b[38;5;124m\\\u001b[39m\u001b[38;5;124md+\u001b[39m\u001b[38;5;124m'\u001b[39m, \u001b[43mresult\u001b[49m\u001b[43m[\u001b[49m\u001b[38;5;124;43m'\u001b[39;49m\u001b[38;5;124;43mtext\u001b[39;49m\u001b[38;5;124;43m'\u001b[39;49m\u001b[43m]\u001b[49m)\n\u001b[1;32m      3\u001b[0m \u001b[38;5;28;01mfor\u001b[39;00m x \u001b[38;5;129;01min\u001b[39;00m \u001b[38;5;28mrange\u001b[39m(\u001b[38;5;241m0\u001b[39m,\u001b[38;5;28mlen\u001b[39m(outcome)):\n\u001b[1;32m      4\u001b[0m     outcome[x] \u001b[38;5;241m=\u001b[39m \u001b[38;5;28mint\u001b[39m(outcome[x])\n",
      "\u001b[0;31mKeyError\u001b[0m: 'text'"
     ]
    }
   ],
   "source": [
    "\n",
    "outcome = re.findall(r'\\d+', result['text'])\n",
    "\n",
    "for x in range(0,len(outcome)):\n",
    "    outcome[x] = int(outcome[x])\n",
    "sum(outcome)\n",
    "\n",
    "input_str = result['text']\n",
    "\n",
    "pattern = r\"(\\w+)((?:[\\s\\d.,]+)+)\"\n",
    "\n",
    "# Find all matches in the input string\n",
    "matches = re.findall(pattern, input_str)\n",
    "\n",
    "# Initialize the dictionary\n",
    "result = {}\n",
    "\n",
    "# Iterate through matches and populate the dictionary\n",
    "for match in matches:\n",
    "    name = match[0]\n",
    "    numbers = re.findall(r\"[-+]?\\d*\\.\\d+|\\d+\", match[1])\n",
    "    result[name] = [float(num) if '.' in num else int(num) for num in numbers]\n",
    "\n",
    "# Print the result\n",
    "print(result)\n",
    "\n",
    "# df = pd.DataFrame(result).T\n",
    "# df['total'] = df.sum(axis=1)\n",
    "# df"
   ]
  },
  {
   "cell_type": "code",
   "execution_count": null,
   "metadata": {},
   "outputs": [],
   "source": [
    "input_str"
   ]
  }
 ],
 "metadata": {
  "kernelspec": {
   "display_name": "AIML",
   "language": "python",
   "name": "python3"
  },
  "language_info": {
   "codemirror_mode": {
    "name": "ipython",
    "version": 3
   },
   "file_extension": ".py",
   "mimetype": "text/x-python",
   "name": "python",
   "nbconvert_exporter": "python",
   "pygments_lexer": "ipython3",
   "version": "3.8.15"
  }
 },
 "nbformat": 4,
 "nbformat_minor": 2
}
